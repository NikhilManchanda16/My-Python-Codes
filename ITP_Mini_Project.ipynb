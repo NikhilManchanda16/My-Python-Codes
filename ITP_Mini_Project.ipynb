{
 "cells": [
  {
   "cell_type": "markdown",
   "metadata": {},
   "source": [
    "# <center>PGP Data Science Engineering</center>\n",
    "## <center>Introduction to Programming – Mini Project:</center>\n"
   ]
  },
  {
   "cell_type": "markdown",
   "metadata": {},
   "source": [
    "### Problem 1:\n",
    "\n",
    "1. Write a program to calculate area of shapes. Your program should be capable of calculating the area of a square, rectangle, triangle and a circle. The user should be presented with options to select the shape. Based on which shape is chosed by the user, the program should ask for the appropriate input and print the resulting area on the screen.\n",
    "\n",
    "When the program is run, the screen should display something like this:\n",
    "\n",
    "**Which shape would you like to calculate the area for? Please enter the option number-**<br>\n",
    "**1. Square**<br>\n",
    "**2. Rectangle**<br>\n",
    "**3. Triangle**<br>\n",
    "**4. Circle**<br>\n",
    "**Enter Option: _**\n",
    "\n",
    "Say the user enters the option 1.\n",
    "\n",
    "**Please enter the length of a side: _**\n",
    "\n",
    "If the user enters a value of 5. The output should be:\n",
    "\n",
    "**The area of the square is 25**\n",
    "\n",
    "This program should indicate that the input is invalid if the user enters a character instead of a number as input. For instance if the user enters a value of ‘a’ instead of 5 in the previous example the program should prompt:\n",
    "\n",
    "**Invalid input, please enter a number: _**\n"
   ]
  },
  {
   "cell_type": "code",
   "execution_count": 1,
   "metadata": {},
   "outputs": [
    {
     "name": "stdin",
     "output_type": "stream",
     "text": [
      "\n",
      "Which shape would you like to calculate the area for? Please enter the option number-\n",
      "1. Square\n",
      "2. Rectangle\n",
      "3. Triangle\n",
      "4. Circle\n",
      "Enter Option: Triangle\n",
      "\n",
      "Invalid input, please enter a number: 963\n",
      "\n",
      "Invalid input, Please choose among the option numbers provided above: T\n",
      "\n",
      "Invalid input, please enter a number: 9\n",
      "\n",
      "Invalid input, Please choose among the option numbers provided above: Triangle\n",
      "\n",
      "Invalid input, please enter a number: 36\n",
      "\n",
      "Invalid input, Please choose among the option numbers provided above: 3\n",
      "\n",
      "Please enter the base: 3.25\n",
      "\n",
      "Please enter the height: 236\n"
     ]
    },
    {
     "name": "stdout",
     "output_type": "stream",
     "text": [
      "\n",
      "The area of Triangle: 383.5\n"
     ]
    }
   ],
   "source": [
    "def take_validate(message1,message2):\n",
    "    value = input(message1)\n",
    "    while True:    # This code snippet will make the person re-enter the value, till s/he enters a valid number.\n",
    "        try:\n",
    "            float(value)\n",
    "        except:\n",
    "            value = input(message2)\n",
    "            continue\n",
    "        else:\n",
    "            break\n",
    "    return float(value)\n",
    "\n",
    "message = \"Invalid input, please enter a number:\"\n",
    "\n",
    "shape = input('''\\nWhich shape would you like to calculate the area for? Please enter the option number-\n",
    "1. Square\n",
    "2. Rectangle\n",
    "3. Triangle\n",
    "4. Circle\n",
    "Enter Option:''')\n",
    "\n",
    "while True:\n",
    "    try:\n",
    "        int(shape)\n",
    "    except:\n",
    "        shape = input(\"\\n\"+message)\n",
    "        continue\n",
    "    if int(shape) not in [1,2,3,4]:\n",
    "        shape = input(\"\\nInvalid input, Please choose among the option numbers provided above:\")\n",
    "        continue\n",
    "    else:\n",
    "        break\n",
    "        \n",
    "if shape=='1':              # here f strings din't work, but this method worked perfectly :\n",
    "    print('\\nThe area of the Square is:',take_validate('\\nPlease enter the length of a side:',message)**2)\n",
    "\n",
    "elif shape=='2':\n",
    "    print('\\nThe area of the Rectangle is:',take_validate('\\nPlease enter the length:',message)*take_validate(\n",
    "        '\\nPlease enter the breadth:',message))\n",
    "    \n",
    "elif shape=='3':\n",
    "    print('\\nThe area of Triangle:',(take_validate('\\nPlease enter the base:', message)*take_validate(\n",
    "        '\\nPlease enter the height:', message))/2)\n",
    "    \n",
    "elif shape=='4':\n",
    "    print('\\nThe area of Cricle:',(take_validate('\\nPlease enter the radius :', message)**2)*3.14)"
   ]
  },
  {
   "cell_type": "markdown",
   "metadata": {},
   "source": [
    "### Problem 2:\n",
    "\n",
    "Create and encrypter in python based on the ceaser cipher. It is a substitution cipher where each character of the original text is shifted a certain number characters in the alphabet. Write a function that would require 2 arguments – the input text to be encrypted and a key. For eg: Given the input text ‘hello’ and the key 3, the resulting encryted text would be ‘khoor’. Here you can see that every character in the string hello is shifted by 3 characters. ‘h’ has shifted to ‘k’, ‘e’ has shifted to ‘h’ and so on. If a key of 5 were used, the resulting string would be ‘mjqqt’. This function should be capable of ignoring any characters which are not alphabets. The character ‘z’ entered by the user for a key of 3 would result in ‘c’.\n",
    "\n",
    "Usage:<br>\n",
    "**encrypt(‘hello world!’, 3)**<br>\n",
    "**‘khoor zruog!’**\n",
    "\n",
    "Similarly create decrypter which can decode the encryted text when provided the input text and key\n",
    "\n",
    "Usage:<br>\n",
    "**decrypt(‘khoor zruog!’, 3)**<br>\n",
    "**‘hello world!’**\n",
    "\n",
    "For the sake of simplicity you can assume that input solely consists of lowercase alphabets, spaces and punctuation symbols. Numbers in the input text would also be ignored similar to symbols."
   ]
  },
  {
   "cell_type": "code",
   "execution_count": 22,
   "metadata": {},
   "outputs": [],
   "source": [
    "def encrypt(s, key):\n",
    "    import string\n",
    "    ns=\"\"\n",
    "    l = string.ascii_lowercase\n",
    "    u = string.ascii_uppercase\n",
    "    ll = l+l\n",
    "    uu = u+u\n",
    "    for i in s:\n",
    "        if i in string.ascii_lowercase:\n",
    "            ns=ns+ll[ll.find(i)+key]\n",
    "        elif i in string.ascii_uppercase:\n",
    "            ns=ns+uu[uu.find(i)+key]\n",
    "        else:\n",
    "            ns=ns+i\n",
    "    return ns\n",
    "\n",
    "def decrypt(s, key):\n",
    "    import string\n",
    "    ns=\"\"\n",
    "    l = string.ascii_lowercase \n",
    "    u = string.ascii_uppercase \n",
    "    for i in s:\n",
    "        if i in string.ascii_lowercase:\n",
    "            ns=ns+l[l.find(i)-3]\n",
    "        elif i in string.ascii_uppercase:\n",
    "            ns=ns+u[u.find(i)-3]\n",
    "        else:\n",
    "            ns=ns+i\n",
    "    return ns\n",
    "    "
   ]
  },
  {
   "cell_type": "code",
   "execution_count": 20,
   "metadata": {},
   "outputs": [
    {
     "data": {
      "text/plain": [
       "'Khoor Zruog 1 !'"
      ]
     },
     "execution_count": 20,
     "metadata": {},
     "output_type": "execute_result"
    }
   ],
   "source": [
    "encrypt('Hello World 1 !',3)"
   ]
  },
  {
   "cell_type": "code",
   "execution_count": 21,
   "metadata": {},
   "outputs": [
    {
     "data": {
      "text/plain": [
       "'Hello World 1 !'"
      ]
     },
     "execution_count": 21,
     "metadata": {},
     "output_type": "execute_result"
    }
   ],
   "source": [
    "decrypt('Khoor Zruog 1 !',3)"
   ]
  },
  {
   "cell_type": "code",
   "execution_count": 24,
   "metadata": {},
   "outputs": [
    {
     "data": {
      "text/plain": [
       "'cC'"
      ]
     },
     "execution_count": 24,
     "metadata": {},
     "output_type": "execute_result"
    }
   ],
   "source": [
    "encrypt('zZ',3)"
   ]
  },
  {
   "cell_type": "code",
   "execution_count": 26,
   "metadata": {},
   "outputs": [
    {
     "data": {
      "text/plain": [
       "'zZ'"
      ]
     },
     "execution_count": 26,
     "metadata": {},
     "output_type": "execute_result"
    }
   ],
   "source": [
    "decrypt('cC',3)"
   ]
  },
  {
   "cell_type": "code",
   "execution_count": null,
   "metadata": {},
   "outputs": [],
   "source": []
  }
 ],
 "metadata": {
  "kernelspec": {
   "display_name": "Python 3",
   "language": "python",
   "name": "python3"
  },
  "language_info": {
   "codemirror_mode": {
    "name": "ipython",
    "version": 3
   },
   "file_extension": ".py",
   "mimetype": "text/x-python",
   "name": "python",
   "nbconvert_exporter": "python",
   "pygments_lexer": "ipython3",
   "version": "3.8.3"
  }
 },
 "nbformat": 4,
 "nbformat_minor": 4
}
