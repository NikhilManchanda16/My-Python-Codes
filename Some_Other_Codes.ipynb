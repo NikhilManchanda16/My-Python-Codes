{
 "cells": [
  {
   "cell_type": "markdown",
   "metadata": {},
   "source": [
    "1. In a Casino, there is a game in which a player needs to roll a dice 6 times. If the sum of the results of the surface of the dice is greater than 25 then a person wins otherwise he losses. Write a Program to evaluate the result. (10 MARKS)"
   ]
  },
  {
   "cell_type": "code",
   "execution_count": 1,
   "metadata": {},
   "outputs": [
    {
     "name": "stdout",
     "output_type": "stream",
     "text": [
      "Enter the six results from the surface of the dice without space in between: 1,2,3,4,5\n",
      "Invalid Input\n",
      "Enter the six results from the surface of the dice without space in between: 1,2,3,4,5,6,7\n",
      "Invalid Input\n",
      "Enter the six results from the surface of the dice without space in between: -1,2,3,4,5,6\n",
      "Invalid Input\n",
      "Enter the six results from the surface of the dice without space in between: 1,2,3,4,5,8\n",
      "Invalid Input\n",
      "Enter the six results from the surface of the dice without space in between: 5,2,4,6,1,3\n",
      "Sum of results is: 21\n"
     ]
    },
    {
     "data": {
      "text/plain": [
       "'Loss'"
      ]
     },
     "execution_count": 1,
     "metadata": {},
     "output_type": "execute_result"
    }
   ],
   "source": [
    "def dice_game():                          # my approach, according to requirements of question.\n",
    "    \n",
    "    while True:\n",
    "        n=input(\"Enter the six results from the surface of the dice without space in between: \").split(\",\")\n",
    "        n=[int(i) for i in n]\n",
    "        if all(1<=i<=6 for i in n)==True and len(n)==6:\n",
    "            break\n",
    "        else:\n",
    "            print(\"Invalid Input\")\n",
    "            \n",
    "    print(f\"Sum of results is: {sum(n)}\")\n",
    "    if sum(n)>25:\n",
    "        return 'Wins'\n",
    "    else:\n",
    "        return 'Loss'\n",
    "\n",
    "dice_game()"
   ]
  },
  {
   "cell_type": "code",
   "execution_count": 3,
   "metadata": {},
   "outputs": [
    {
     "name": "stdout",
     "output_type": "stream",
     "text": [
      "Enter the six results from the surface of the dice without space in between: 4,6,4,6,1,6\n",
      "Sum of results is: 27\n"
     ]
    },
    {
     "data": {
      "text/plain": [
       "'Wins'"
      ]
     },
     "execution_count": 3,
     "metadata": {},
     "output_type": "execute_result"
    }
   ],
   "source": [
    "dice_game()                          # checking with sample input"
   ]
  },
  {
   "cell_type": "code",
   "execution_count": 4,
   "metadata": {},
   "outputs": [
    {
     "name": "stdout",
     "output_type": "stream",
     "text": [
      "press enter to roll the dice\n",
      "you got:  1\n",
      "press enter to roll the dice\n",
      "you got:  3\n",
      "press enter to roll the dice\n",
      "you got:  3\n",
      "press enter to roll the dice\n",
      "you got:  6\n",
      "press enter to roll the dice\n",
      "you got:  5\n",
      "press enter to roll the dice\n",
      "you got:  6\n",
      "[1, 3, 3, 6, 5, 6]\n",
      "24\n"
     ]
    },
    {
     "data": {
      "text/plain": [
       "'Loss'"
      ]
     },
     "execution_count": 4,
     "metadata": {},
     "output_type": "execute_result"
    }
   ],
   "source": [
    "def dice_game():                     # random function approach, cannot give sample inputs,\n",
    "    import random                    # not according to requirements of question.\n",
    "    l=[]\n",
    "    for i in range(1,7):\n",
    "        input(\"press enter to roll the dice\")\n",
    "        n=random.randint(1,6)\n",
    "        print(\"you got: \", n)\n",
    "        l.append(n)\n",
    "    print(l)   \n",
    "    print(sum(l))\n",
    "    if sum(l)>=25:                                          \n",
    "        return(\"Win\")\n",
    "    else:\n",
    "        return(\"Loss\")\n",
    "        \n",
    "dice_game()"
   ]
  },
  {
   "cell_type": "markdown",
   "metadata": {},
   "source": [
    "2. In a gameshow contestant can vote their competitor to get eliminated. Each contestant gets to vote twice, there are 6 contestants, write a python program to find out the name of the Contestant who is getting eliminated. (15 MARKS)"
   ]
  },
  {
   "cell_type": "code",
   "execution_count": 1,
   "metadata": {},
   "outputs": [
    {
     "name": "stdout",
     "output_type": "stream",
     "text": [
      "Please enter the names of 6 players without any space in between:   Danniel,Ross,Trisha,Nansy,fifth_nm,sixth_nm\n",
      "\n",
      "Players:  ['Danniel', 'Ross', 'Trisha', 'Nansy', 'fifth_nm', 'sixth_nm']\n",
      " Player 1, please enter your votes without any space in between:   Danniel,Ross\n",
      " Player 2, please enter your votes without any space in between:   Ross,Nansy\n",
      " Player 3, please enter your votes without any space in between:   nikhil,varun\n",
      " Invalid Voting\n",
      " Player 3, please enter your votes without any space in between:   g,l\n",
      " Invalid Voting\n",
      " Player 3, please enter your votes without any space in between:   Danniel,Ross,Trisha\n",
      " Invalid Voting\n",
      " Player 3, please enter your votes without any space in between:   Trisha\n",
      " Invalid Voting\n",
      " Player 3, please enter your votes without any space in between:   Nansy,Ross\n",
      " Player 4, please enter your votes without any space in between:   Danniel,Ross\n",
      " Player 5, please enter your votes without any space in between:   Danniel,Ross\n",
      " Player 6, please enter your votes without any space in between:   Danniel,Trisha\n",
      "\n",
      "Votes_data: ['Danniel', 'Ross', 'Ross', 'Nansy', 'Nansy', 'Ross', 'Danniel', 'Ross', 'Danniel', 'Ross', 'Danniel', 'Trisha']\n",
      "\n",
      "freq_votes {'Danniel': 4, 'Ross': 5, 'Nansy': 2, 'Trisha': 1}\n",
      "\n",
      "Contestant who is getting eliminated is : Ross\n"
     ]
    }
   ],
   "source": [
    "def vote_game():                                        # a code which works for different set of names also.\n",
    "                                                                    \n",
    "    while True:\n",
    "        n = input(\"Please enter the names of 6 players without any space in between:   \").split(\",\")\n",
    "        if len(set(n))==6:\n",
    "            Players = n.copy()\n",
    "            break\n",
    "        else:\n",
    "            print(\"Kindly enter names of six players only\")\n",
    "\n",
    "    print()\n",
    "    print('Players: ',Players)\n",
    "\n",
    "    Votes_data=[]                                       # not using player's name for asking the votes because\n",
    "    for i in range(1,7):                                # we have not been given the votes along with corresponding voter. \n",
    "        while True:                     \n",
    "            x=input(f\" Player {i}, please enter your votes without any space in between:   \").split(\",\")\n",
    "            if len(x)==2 and all(i in Players for i in x):\n",
    "                Votes_data.extend(x)\n",
    "                break\n",
    "            else:\n",
    "                print(\" Invalid Voting\")\n",
    "    print()\n",
    "    print(\"Votes_data:\",Votes_data)\n",
    "    print()\n",
    "\n",
    "    \n",
    "    freq_votes={}\n",
    "    for k in Votes_data:\n",
    "        freq_votes[k]=Votes_data.count(k)\n",
    "    print(\"freq_votes\", freq_votes)\n",
    "    print()\n",
    "    \n",
    "    \n",
    "    for s in freq_votes:\n",
    "        if freq_votes[s]==max(freq_votes.values()):\n",
    "            print(\"Contestant who is getting eliminated is :\",s)\n",
    "            \n",
    "vote_game()                                       # giving sample inputs and checking all required conditions for voting."
   ]
  },
  {
   "cell_type": "code",
   "execution_count": 2,
   "metadata": {},
   "outputs": [
    {
     "name": "stdout",
     "output_type": "stream",
     "text": [
      "Please enter the names of 6 players without any space in between:   varun,nikhil,kripanshu,narendra,pragati,faiqua\n",
      "\n",
      "Players:  ['varun', 'nikhil', 'kripanshu', 'narendra', 'pragati', 'faiqua']\n",
      " Player 1, please enter your votes without any space in between:   Nikhil,varun\n",
      " Invalid Voting\n",
      " Player 1, please enter your votes without any space in between:   nikhil,varun\n",
      " Player 2, please enter your votes without any space in between:   kripanshu,narendra\n",
      " Player 3, please enter your votes without any space in between:   nikhil,varun\n",
      " Player 4, please enter your votes without any space in between:   nikhil,varun\n",
      " Player 5, please enter your votes without any space in between:   kripanshu,narendra\n",
      " Player 6, please enter your votes without any space in between:   kripanshu,narendra\n",
      "\n",
      "Votes_data: ['nikhil', 'varun', 'kripanshu', 'narendra', 'nikhil', 'varun', 'nikhil', 'varun', 'kripanshu', 'narendra', 'kripanshu', 'narendra']\n",
      "\n",
      "freq_votes {'nikhil': 3, 'varun': 3, 'kripanshu': 3, 'narendra': 3}\n",
      "\n",
      "Contestant who is getting eliminated is : nikhil\n",
      "Contestant who is getting eliminated is : varun\n",
      "Contestant who is getting eliminated is : kripanshu\n",
      "Contestant who is getting eliminated is : narendra\n"
     ]
    }
   ],
   "source": [
    "vote_game()                                       # giving a condition of tie."
   ]
  },
  {
   "cell_type": "code",
   "execution_count": null,
   "metadata": {},
   "outputs": [],
   "source": []
  }
 ],
 "metadata": {
  "kernelspec": {
   "display_name": "Python 3",
   "language": "python",
   "name": "python3"
  },
  "language_info": {
   "codemirror_mode": {
    "name": "ipython",
    "version": 3
   },
   "file_extension": ".py",
   "mimetype": "text/x-python",
   "name": "python",
   "nbconvert_exporter": "python",
   "pygments_lexer": "ipython3",
   "version": "3.8.5"
  }
 },
 "nbformat": 4,
 "nbformat_minor": 4
}
